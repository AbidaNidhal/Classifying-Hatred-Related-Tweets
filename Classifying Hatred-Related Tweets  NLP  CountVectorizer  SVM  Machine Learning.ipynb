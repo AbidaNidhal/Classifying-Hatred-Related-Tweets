{
 "cells": [
  {
   "cell_type": "markdown",
   "id": "a89a0e4c",
   "metadata": {},
   "source": [
    "# followed this tutorial on towards data science website made by Jaemin Lee:\n",
    "# https://towardsdatascience.com/twitter-sentiment-analysis-nlp-text-analytics-b7b296d71fce"
   ]
  },
  {
   "cell_type": "markdown",
   "id": "e8ce2a51",
   "metadata": {},
   "source": [
    "# importing libraries and installing libraries"
   ]
  },
  {
   "cell_type": "code",
   "execution_count": 45,
   "id": "387e085b",
   "metadata": {},
   "outputs": [
    {
     "name": "stdout",
     "output_type": "stream",
     "text": [
      "Requirement already satisfied: tweet-preprocessor in c:\\users\\user\\anaconda3\\lib\\site-packages (0.6.0)\n"
     ]
    }
   ],
   "source": [
    "#most likely you don't have this library installed\n",
    "!pip install tweet-preprocessor\n",
    "#re : regular expression\n",
    "import re\n",
    "# used to remove special characters\n",
    "import sklearn\n",
    "import numpy as np\n",
    "import pandas as pd\n",
    "from sklearn import svm\n",
    "import preprocessor as p\n",
    "from sklearn.metrics import accuracy_score\n",
    "from sklearn.model_selection import train_test_split\n",
    "from sklearn.feature_extraction.text import CountVectorizer"
   ]
  },
  {
   "cell_type": "markdown",
   "id": "2f14c1aa",
   "metadata": {},
   "source": [
    "# importing data"
   ]
  },
  {
   "cell_type": "code",
   "execution_count": 46,
   "id": "1f4af9db",
   "metadata": {},
   "outputs": [],
   "source": [
    "train=pd.read_csv(r'C:\\Users\\user\\dataset\\train.csv')\n",
    "test=pd.read_csv(r'C:\\Users\\user\\dataset\\test.csv')"
   ]
  },
  {
   "cell_type": "markdown",
   "id": "1b4cd0bd",
   "metadata": {},
   "source": [
    "# Exploring the data"
   ]
  },
  {
   "cell_type": "code",
   "execution_count": 47,
   "id": "45fe41db",
   "metadata": {},
   "outputs": [
    {
     "data": {
      "text/html": [
       "<div>\n",
       "<style scoped>\n",
       "    .dataframe tbody tr th:only-of-type {\n",
       "        vertical-align: middle;\n",
       "    }\n",
       "\n",
       "    .dataframe tbody tr th {\n",
       "        vertical-align: top;\n",
       "    }\n",
       "\n",
       "    .dataframe thead th {\n",
       "        text-align: right;\n",
       "    }\n",
       "</style>\n",
       "<table border=\"1\" class=\"dataframe\">\n",
       "  <thead>\n",
       "    <tr style=\"text-align: right;\">\n",
       "      <th></th>\n",
       "      <th>id</th>\n",
       "      <th>label</th>\n",
       "      <th>tweet</th>\n",
       "    </tr>\n",
       "  </thead>\n",
       "  <tbody>\n",
       "    <tr>\n",
       "      <th>0</th>\n",
       "      <td>1</td>\n",
       "      <td>0</td>\n",
       "      <td>@user when a father is dysfunctional and is s...</td>\n",
       "    </tr>\n",
       "    <tr>\n",
       "      <th>1</th>\n",
       "      <td>2</td>\n",
       "      <td>0</td>\n",
       "      <td>@user @user thanks for #lyft credit i can't us...</td>\n",
       "    </tr>\n",
       "    <tr>\n",
       "      <th>2</th>\n",
       "      <td>3</td>\n",
       "      <td>0</td>\n",
       "      <td>bihday your majesty</td>\n",
       "    </tr>\n",
       "    <tr>\n",
       "      <th>3</th>\n",
       "      <td>4</td>\n",
       "      <td>0</td>\n",
       "      <td>#model   i love u take with u all the time in ...</td>\n",
       "    </tr>\n",
       "    <tr>\n",
       "      <th>4</th>\n",
       "      <td>5</td>\n",
       "      <td>0</td>\n",
       "      <td>factsguide: society now    #motivation</td>\n",
       "    </tr>\n",
       "  </tbody>\n",
       "</table>\n",
       "</div>"
      ],
      "text/plain": [
       "   id  label                                              tweet\n",
       "0   1      0   @user when a father is dysfunctional and is s...\n",
       "1   2      0  @user @user thanks for #lyft credit i can't us...\n",
       "2   3      0                                bihday your majesty\n",
       "3   4      0  #model   i love u take with u all the time in ...\n",
       "4   5      0             factsguide: society now    #motivation"
      ]
     },
     "execution_count": 47,
     "metadata": {},
     "output_type": "execute_result"
    }
   ],
   "source": [
    "train.head()"
   ]
  },
  {
   "cell_type": "code",
   "execution_count": 48,
   "id": "fe324d0d",
   "metadata": {},
   "outputs": [
    {
     "data": {
      "text/html": [
       "<div>\n",
       "<style scoped>\n",
       "    .dataframe tbody tr th:only-of-type {\n",
       "        vertical-align: middle;\n",
       "    }\n",
       "\n",
       "    .dataframe tbody tr th {\n",
       "        vertical-align: top;\n",
       "    }\n",
       "\n",
       "    .dataframe thead th {\n",
       "        text-align: right;\n",
       "    }\n",
       "</style>\n",
       "<table border=\"1\" class=\"dataframe\">\n",
       "  <thead>\n",
       "    <tr style=\"text-align: right;\">\n",
       "      <th></th>\n",
       "      <th>id</th>\n",
       "      <th>tweet</th>\n",
       "    </tr>\n",
       "  </thead>\n",
       "  <tbody>\n",
       "    <tr>\n",
       "      <th>17192</th>\n",
       "      <td>49155</td>\n",
       "      <td>thought factory: left-right polarisation! #tru...</td>\n",
       "    </tr>\n",
       "    <tr>\n",
       "      <th>17193</th>\n",
       "      <td>49156</td>\n",
       "      <td>feeling like a mermaid ð #hairflip #neverre...</td>\n",
       "    </tr>\n",
       "    <tr>\n",
       "      <th>17194</th>\n",
       "      <td>49157</td>\n",
       "      <td>#hillary #campaigned today in #ohio((omg)) &amp;am...</td>\n",
       "    </tr>\n",
       "    <tr>\n",
       "      <th>17195</th>\n",
       "      <td>49158</td>\n",
       "      <td>happy, at work conference: right mindset leads...</td>\n",
       "    </tr>\n",
       "    <tr>\n",
       "      <th>17196</th>\n",
       "      <td>49159</td>\n",
       "      <td>my   song \"so glad\" free download!  #shoegaze ...</td>\n",
       "    </tr>\n",
       "  </tbody>\n",
       "</table>\n",
       "</div>"
      ],
      "text/plain": [
       "          id                                              tweet\n",
       "17192  49155  thought factory: left-right polarisation! #tru...\n",
       "17193  49156  feeling like a mermaid ð #hairflip #neverre...\n",
       "17194  49157  #hillary #campaigned today in #ohio((omg)) &am...\n",
       "17195  49158  happy, at work conference: right mindset leads...\n",
       "17196  49159  my   song \"so glad\" free download!  #shoegaze ..."
      ]
     },
     "execution_count": 48,
     "metadata": {},
     "output_type": "execute_result"
    }
   ],
   "source": [
    "test.tail()"
   ]
  },
  {
   "cell_type": "markdown",
   "id": "08167b47",
   "metadata": {},
   "source": [
    "# checking for missing values"
   ]
  },
  {
   "cell_type": "code",
   "execution_count": 49,
   "id": "cd69a69b",
   "metadata": {},
   "outputs": [
    {
     "data": {
      "text/plain": [
       "False"
      ]
     },
     "execution_count": 49,
     "metadata": {},
     "output_type": "execute_result"
    }
   ],
   "source": [
    "train.isnull().values.any()"
   ]
  },
  {
   "cell_type": "markdown",
   "id": "e0c5e353",
   "metadata": {},
   "source": [
    "# defining symbols that we want to replace"
   ]
  },
  {
   "cell_type": "code",
   "execution_count": 50,
   "id": "8a4fd9ae",
   "metadata": {},
   "outputs": [],
   "source": [
    "REPLACE_NO_SPACE=re.compile(\"(\\.)|(\\;)|(\\:)|(\\!)|(\\')|(\\?)|(\\,)|(\\\")|(\\|)|(\\()|(\\))|(\\[)|(\\])|(\\%)|(\\$)|(\\>)|(\\<)|(\\{)|(\\})\")\n",
    "REPLACE_WITH_SPACE=re.compile(\"(<br\\s/><br\\s/?)|(-)|(/)|(:).\")"
   ]
  },
  {
   "cell_type": "markdown",
   "id": "666cd365",
   "metadata": {},
   "source": [
    "# function to clean the dataset using tweet-preprocessor and re"
   ]
  },
  {
   "cell_type": "code",
   "execution_count": 51,
   "id": "7ae81976",
   "metadata": {},
   "outputs": [],
   "source": [
    "def clean_tweets(ds):\n",
    "  Arr=[]\n",
    "  for l in ds:\n",
    "    # tweet-preprocessor\n",
    "    tmp = p.clean(l)\n",
    "    # re\n",
    "    tmp=REPLACE_NO_SPACE.sub(\"\",tmp.lower()) # convert all tweets to lower cases\n",
    "    tmp=REPLACE_WITH_SPACE.sub(\" \",tmp)\n",
    "    Arr.append(tmp)\n",
    "  return Arr"
   ]
  },
  {
   "cell_type": "markdown",
   "id": "305fe724",
   "metadata": {},
   "source": [
    "# cleaning training data"
   ]
  },
  {
   "cell_type": "code",
   "execution_count": 52,
   "id": "958dd483",
   "metadata": {},
   "outputs": [],
   "source": [
    "train[\"tweet\"]=pd.DataFrame(clean_tweets(train[\"tweet\"]))\n",
    "test[\"tweet\"]=pd.DataFrame(clean_tweets(test[\"tweet\"]))"
   ]
  },
  {
   "cell_type": "markdown",
   "id": "b5b28aab",
   "metadata": {},
   "source": [
    "# spliting Testing and Training datasets"
   ]
  },
  {
   "cell_type": "code",
   "execution_count": 53,
   "id": "93300598",
   "metadata": {},
   "outputs": [],
   "source": [
    "# per default 75%training and 25%test\n",
    "x_train,x_test,y_train,y_test=train_test_split(train.tweet.values,\n",
    "                                               train.label.values,\n",
    "                                               stratify=train.label.values,\n",
    "                                               random_state=42)"
   ]
  },
  {
   "cell_type": "markdown",
   "id": "77c27b89",
   "metadata": {},
   "source": [
    "# Vectorizing"
   ]
  },
  {
   "cell_type": "code",
   "execution_count": 54,
   "id": "fa2a5acf",
   "metadata": {},
   "outputs": [],
   "source": [
    "# vectorize tweets for model building\n",
    "vectorizer=CountVectorizer(binary=True,stop_words='english')\n",
    "# learn a vocabulary dictionary of all tokens in the raw documents\n",
    "vectorizer.fit(list(x_train)+list(x_test))\n",
    "# transform documents to document-term matrix\n",
    "x_train_vec=vectorizer.transform(x_train)\n",
    "x_test_vec=vectorizer.transform(x_test)"
   ]
  },
  {
   "cell_type": "markdown",
   "id": "4796f51b",
   "metadata": {},
   "source": [
    "# Model building"
   ]
  },
  {
   "cell_type": "code",
   "execution_count": 55,
   "id": "ad72d834",
   "metadata": {},
   "outputs": [],
   "source": [
    "# classify using support vector classifier\n",
    "svm=svm.SVC(kernel='linear',probability=True)\n",
    "# fit the SVC model based on the given training data\n",
    "prob1=svm.fit(x_train_vec, y_train).predict_proba(x_test_vec)\n",
    "# perform classification and prediction on samples in x_test\n",
    "y_pred_svm=svm.predict(x_test_vec)"
   ]
  },
  {
   "cell_type": "markdown",
   "id": "3d43bb88",
   "metadata": {},
   "source": [
    "# Accuracy score"
   ]
  },
  {
   "cell_type": "code",
   "execution_count": 56,
   "id": "33476428",
   "metadata": {},
   "outputs": [
    {
     "name": "stdout",
     "output_type": "stream",
     "text": [
      "Accuracy score for SVC is: 95.07 %\n"
     ]
    }
   ],
   "source": [
    "print(\"Accuracy score for SVC is:\",str(round(accuracy_score(y_test,y_pred_svm)*100, 2)),'%')"
   ]
  }
 ],
 "metadata": {
  "kernelspec": {
   "display_name": "Python 3",
   "language": "python",
   "name": "python3"
  },
  "language_info": {
   "codemirror_mode": {
    "name": "ipython",
    "version": 3
   },
   "file_extension": ".py",
   "mimetype": "text/x-python",
   "name": "python",
   "nbconvert_exporter": "python",
   "pygments_lexer": "ipython3",
   "version": "3.8.8"
  }
 },
 "nbformat": 4,
 "nbformat_minor": 5
}
